{
 "metadata": {
  "language_info": {
   "codemirror_mode": {
    "name": "ipython",
    "version": 3
   },
   "file_extension": ".py",
   "mimetype": "text/x-python",
   "name": "python",
   "nbconvert_exporter": "python",
   "pygments_lexer": "ipython3",
   "version": "3.8.3-final"
  },
  "orig_nbformat": 2,
  "kernelspec": {
   "name": "python3",
   "display_name": "Python 3"
  }
 },
 "nbformat": 4,
 "nbformat_minor": 2,
 "cells": [
  {
   "cell_type": "code",
   "execution_count": 14,
   "metadata": {},
   "outputs": [],
   "source": [
    "from scipy.io import loadmat\n",
    "import pandas as pd\n",
    "# comment"
   ]
  },
  {
   "cell_type": "code",
   "execution_count": 4,
   "metadata": {},
   "outputs": [],
   "source": [
    "spikes = loadmat('../data/Spike_TIDIGITS/Spike-TIDIGITS.mat')"
   ]
  },
  {
   "cell_type": "code",
   "execution_count": 18,
   "metadata": {},
   "outputs": [
    {
     "output_type": "execute_result",
     "data": {
      "text/plain": [
       "                                                   0\n",
       "0  [[inf, inf], [inf, inf], [inf, inf], [inf, inf...\n",
       "1  [[inf, inf], [inf, inf], [inf, inf], [inf, inf...\n",
       "2  [[inf, inf], [inf, inf], [inf, inf], [inf, inf...\n",
       "3  [[inf, inf], [inf, inf], [inf, inf], [inf, inf...\n",
       "4  [[inf, inf, inf], [inf, inf, inf], [inf, inf, ..."
      ],
      "text/html": "<div>\n<style scoped>\n    .dataframe tbody tr th:only-of-type {\n        vertical-align: middle;\n    }\n\n    .dataframe tbody tr th {\n        vertical-align: top;\n    }\n\n    .dataframe thead th {\n        text-align: right;\n    }\n</style>\n<table border=\"1\" class=\"dataframe\">\n  <thead>\n    <tr style=\"text-align: right;\">\n      <th></th>\n      <th>0</th>\n    </tr>\n  </thead>\n  <tbody>\n    <tr>\n      <th>0</th>\n      <td>[[inf, inf], [inf, inf], [inf, inf], [inf, inf...</td>\n    </tr>\n    <tr>\n      <th>1</th>\n      <td>[[inf, inf], [inf, inf], [inf, inf], [inf, inf...</td>\n    </tr>\n    <tr>\n      <th>2</th>\n      <td>[[inf, inf], [inf, inf], [inf, inf], [inf, inf...</td>\n    </tr>\n    <tr>\n      <th>3</th>\n      <td>[[inf, inf], [inf, inf], [inf, inf], [inf, inf...</td>\n    </tr>\n    <tr>\n      <th>4</th>\n      <td>[[inf, inf, inf], [inf, inf, inf], [inf, inf, ...</td>\n    </tr>\n  </tbody>\n</table>\n</div>"
     },
     "metadata": {},
     "execution_count": 18
    }
   ],
   "source": [
    "# spikes.keys()\n",
    "spikes_df = pd.DataFrame(spikes['train_pattern'])\n",
    "spikes_df.head()"
   ]
  }
 ]
}
