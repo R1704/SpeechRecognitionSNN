{
 "cells": [
  {
   "cell_type": "code",
   "execution_count": 2,
   "metadata": {
    "cell_id": "00000-f89bfa12-9ebd-4e9b-9395-9389094e0066",
    "deepnote_cell_type": "code",
    "execution_millis": 5,
    "execution_start": 1606061153942,
    "output_cleared": false,
    "source_hash": "f904b2af"
   },
   "outputs": [],
   "source": [
    "import pickle\n",
    "from scipy.io import loadmat\n",
    "import numpy as np\n",
    "import pandas as pd\n",
    "from time import time as t\n",
    "import matplotlib.pyplot as plt\n",
    "#!pip install tqdm\n",
    "from tqdm import tqdm\n",
    "\n",
    "from SpykeTorch import functional, snn, utils, visualization"
   ]
  },
  {
   "cell_type": "code",
   "execution_count": 3,
   "metadata": {
    "cell_id": "00001-e8fadb27-0cf0-4a64-b2b8-682d66282a1f",
    "deepnote_cell_type": "code",
    "execution_millis": 40,
    "execution_start": 1606061154730,
    "output_cleared": false,
    "source_hash": "7d9464e3"
   },
   "outputs": [],
   "source": [
    "ttfs_spikes_train = pd.read_pickle(r'ttfs_spikes_data/ttfs_spikes_train.p')\n",
    "# print(ttfs_spikes_train.shape) # (index, time-frame, frequency-band)"
   ]
  },
  {
   "cell_type": "markdown",
   "metadata": {},
   "source": [
    "### Split the data into the overlapping section"
   ]
  },
  {
   "cell_type": "code",
   "execution_count": 4,
   "metadata": {},
   "outputs": [
    {
     "name": "stdout",
     "output_type": "stream",
     "text": [
      "(9, 2464, 9, 40)\n",
      "(9, 2464, 9, 40)\n"
     ]
    }
   ],
   "source": [
    "kernel_size = (6,40)\n",
    "stride = 1\n",
    "n_sections = 9\n",
    "size_conv_section = 4\n",
    "size_inpt_section = 9\n",
    "\n",
    "i = 0\n",
    "shape = ttfs_spikes_train.shape\n",
    "split_data = np.zeros((n_sections, shape[0], size_inpt_section, shape[2]))\n",
    "for section in range(n_sections):\n",
    "    split_data[section, :, :, :] = ttfs_spikes_train[:, i:i+size_inpt_section, :]\n",
    "    i += size_conv_section"
   ]
  },
  {
   "cell_type": "code",
   "execution_count": 5,
   "metadata": {
    "cell_id": "00002-3d98b35b-acbb-4e38-a2e0-3ec0ed0e67db",
    "deepnote_cell_type": "code",
    "execution_millis": 1563,
    "execution_start": 1606061155938,
    "output_cleared": false,
    "source_hash": "94f9ff0d"
   },
   "outputs": [
    {
     "name": "stdout",
     "output_type": "stream",
     "text": [
      "(9, 2464, 9, 40, 32)\n"
     ]
    }
   ],
   "source": [
    "def one_hot2spikes(data):\n",
    "    \"\"\"\n",
    "    Computes one-hot encoding from data\n",
    "    Returns: [samples, time-frames, frequency bands, time-points]\n",
    "    \"\"\"\n",
    "    n_spiketime_bins = np.max(data).astype(int) + 1\n",
    "    spikes = np.zeros(list(data.shape)+[n_spiketime_bins])\n",
    "    for i, sample in enumerate(data):\n",
    "        for j, tf in enumerate(sample):\n",
    "            spikes[i, j] = np.eye(n_spiketime_bins)[tf]\n",
    "\n",
    "    return spikes\n",
    "\n",
    "data_one_hot = one_hot2spikes(split_data.astype(int))\n",
    "print(data_one_hot.shape)\n",
    "shape = data_one_hot.shape"
   ]
  },
  {
   "cell_type": "markdown",
   "metadata": {},
   "source": [
    "### Apply convolution and pooling to the sections"
   ]
  },
  {
   "cell_type": "code",
   "execution_count": 8,
   "metadata": {
    "cell_id": "00003-4b51c4cc-3e7d-4c23-a7d0-9ce4e56bd1f6",
    "deepnote_cell_type": "code",
    "execution_millis": 1,
    "execution_start": 1606061261502,
    "output_cleared": false,
    "source_hash": "9a179865",
    "tags": []
   },
   "outputs": [],
   "source": [
    "data_channels = np.expand_dims(data_one_hot, 1)  # The channel dimension is the second dimension of a tensor\n",
    "\n",
    "\n",
    "conv = snn.Convolution(in_channels=40, out_channels=40, kernel_size=(6,40))\n",
    "pool = snn.Pooling(kernel_size=(4,40), stride=4)\n",
    "\n",
    "stdp = snn.STDP(conv_layer=conv, learning_rate=(0.004, 0.003))\n"
   ]
  },
  {
   "cell_type": "code",
   "execution_count": null,
   "metadata": {
    "cell_id": "00005-df574b58-0b93-4e04-9b46-11d847bee8ea",
    "deepnote_cell_type": "code",
    "tags": []
   },
   "outputs": [],
   "source": []
  }
 ],
 "metadata": {
  "deepnote_execution_queue": [],
  "deepnote_notebook_id": "ab9f7686-0647-470e-94c5-61a0fc8b53b2",
  "kernelspec": {
   "display_name": "Python 3",
   "language": "python",
   "name": "python3"
  },
  "language_info": {
   "codemirror_mode": {
    "name": "ipython",
    "version": 3
   },
   "file_extension": ".py",
   "mimetype": "text/x-python",
   "name": "python",
   "nbconvert_exporter": "python",
   "pygments_lexer": "ipython3",
   "version": "3.8.3"
  }
 },
 "nbformat": 4,
 "nbformat_minor": 2
}
